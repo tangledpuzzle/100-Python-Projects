{
  "nbformat": 4,
  "nbformat_minor": 0,
  "metadata": {
    "colab": {
      "name": "Create A dictionary.ipynb",
      "provenance": [],
      "authorship_tag": "ABX9TyN1SmNMPc+ctaKRUtw7yEjl",
      "include_colab_link": true
    },
    "kernelspec": {
      "name": "python3",
      "display_name": "Python 3"
    },
    "language_info": {
      "name": "python"
    }
  },
  "cells": [
    {
      "cell_type": "markdown",
      "metadata": {
        "id": "view-in-github",
        "colab_type": "text"
      },
      "source": [
        "<a href=\"https://colab.research.google.com/github/natnew/100-Python-Projects/blob/main/Create_A_dictionary.ipynb\" target=\"_parent\"><img src=\"https://colab.research.google.com/assets/colab-badge.svg\" alt=\"Open In Colab\"/></a>"
      ]
    },
    {
      "cell_type": "code",
      "execution_count": 2,
      "metadata": {
        "colab": {
          "base_uri": "https://localhost:8080/"
        },
        "id": "FbT7myb3V-_A",
        "outputId": "7b63600e-664c-49aa-abee-e210fc0d955f"
      },
      "outputs": [
        {
          "output_type": "stream",
          "name": "stdout",
          "text": [
            "{'ability': 'the ability to do something', 'abroad': ' in or to a foreign country', 'actor': ' a person who performs on the stage'}\n"
          ]
        }
      ],
      "source": [
        "adict = {\n",
        "\"ability\": \"the ability to do something\",\n",
        "\"abroad\": \" in or to a foreign country\",\n",
        "\"actor\": \" a person who performs on the stage\",\n",
        "}\n",
        "print(adict)"
      ]
    }
  ]
}